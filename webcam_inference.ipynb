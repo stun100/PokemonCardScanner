{
 "cells": [
  {
   "cell_type": "code",
   "execution_count": null,
   "metadata": {},
   "outputs": [],
   "source": [
    "import ultralytics\n",
    "from ultralytics import YOLO\n",
    "ultralytics.checks()"
   ]
  },
  {
   "cell_type": "code",
   "execution_count": null,
   "metadata": {},
   "outputs": [],
   "source": [
    "def center_crop(frame, target_size=(480, 480)):\n",
    "    h, w, _ = frame.shape\n",
    "    crop_h, crop_w = target_size\n",
    "\n",
    "    # Calculate cropping coordinates\n",
    "    start_x = max(0, (w - crop_w) // 2)\n",
    "    start_y = max(0, (h - crop_h) // 2)\n",
    "    end_x = start_x + crop_w\n",
    "    end_y = start_y + crop_h\n",
    "\n",
    "    # Perform cropping\n",
    "    cropped_frame = frame[start_y:end_y, start_x:end_x]\n",
    "    return cropped_frame"
   ]
  },
  {
   "cell_type": "markdown",
   "metadata": {},
   "source": [
    "# Object Detection"
   ]
  },
  {
   "cell_type": "code",
   "execution_count": null,
   "metadata": {},
   "outputs": [],
   "source": [
    "model = YOLO(\"runs/detect/train5/weights/best.pt\")"
   ]
  },
  {
   "cell_type": "markdown",
   "metadata": {},
   "source": [
    "## Webcam connected on pc"
   ]
  },
  {
   "cell_type": "code",
   "execution_count": null,
   "metadata": {},
   "outputs": [],
   "source": [
    "import cv2\n",
    "\n",
    "# Initialize the webcam (use 0 for default webcam, or 1, 2, etc., for external webcams)\n",
    "cap = cv2.VideoCapture(0)\n",
    "\n",
    "# model = YOLO(\"runs/detect/train5/weights/best.pt\")\n",
    "\n",
    "# Check if the webcam is opened correctly\n",
    "if not cap.isOpened():\n",
    "    print(\"Error: Could not open webcam.\")\n",
    "    exit()\n",
    "\n",
    "# Loop to capture frames\n",
    "while True:\n",
    "    # Capture frame-by-frame\n",
    "    ret, frame = cap.read()\n",
    "    \n",
    "    # If frame is read correctly, ret will be True\n",
    "    if not ret:\n",
    "        print(\"Error: Cannot read frame.\")\n",
    "        break\n",
    "\n",
    "    # results = model.predict(frame, imgsz=480)\n",
    "    cropped_frame = center_crop(frame, target_size=(480, 480))\n",
    "    results = model.predict(cropped_frame, imgsz=480)\n",
    "    for result in results:\n",
    "        for box in result.boxes:\n",
    "            # Get bounding box coordinates\n",
    "            x1, y1, x2, y2 = map(int, box.xyxy[0])  # Convert to integers\n",
    "            conf = box.conf[0]  # Confidence score\n",
    "            cls = int(box.cls[0])  # Class index\n",
    "            label = model.names[cls]  # Class label from model\n",
    "\n",
    "            # Draw the bounding box\n",
    "            cv2.rectangle(cropped_frame, (x1, y1), (x2, y2), (0, 255, 0), 2)\n",
    "            # Add label and confidence score\n",
    "            cv2.putText(cropped_frame, f\"{label} {conf:.2f}\", (x1, y1 - 10),\n",
    "                        cv2.FONT_HERSHEY_SIMPLEX, 0.5, (0, 255, 0), 2)\n",
    "    # Display the resulting frame\n",
    "    cv2.imshow('Webcam', cropped_frame)\n",
    "\n",
    "    # Break the loop on 'q' key press\n",
    "    if cv2.waitKey(1) & 0xFF == ord('q'):\n",
    "        break\n",
    "\n",
    "# Release the webcam and close windows\n",
    "cap.release()\n",
    "cv2.destroyAllWindows()\n"
   ]
  },
  {
   "cell_type": "markdown",
   "metadata": {},
   "source": [
    "## Phone camera\n",
    "\n",
    "Steps:\n",
    "1. Install **IP Webcam** (Thyoni Tech)\n",
    "2. Scroll down and click on **Start Server** (make sure that PC and phone are connected on network)\n",
    "3. Change the url"
   ]
  },
  {
   "cell_type": "code",
   "execution_count": null,
   "metadata": {},
   "outputs": [],
   "source": [
    "# Import essential libraries \n",
    "import requests \n",
    "import cv2 \n",
    "import numpy as np \n",
    "\n",
    "# Replace the below URL with your own. Make sure to add \"/shot.jpg\" at last. \n",
    "url = \"http://192.168.188.30:8080/shot.jpg\"\n",
    "\n",
    "# While loop to continuously fetching data from the Url \n",
    "while True: \n",
    "\timg_resp = requests.get(url) \n",
    "\timg_arr = np.array(bytearray(img_resp.content), dtype=np.uint8) \n",
    "\tframe = cv2.imdecode(img_arr, -1) \n",
    "\t# cropped_frame = center_crop(frame, target_size=(480, 480))\n",
    "\tcropped_frame = frame\n",
    "\tresults = model.predict(cropped_frame, imgsz=480)\n",
    "\tfor result in results:\n",
    "\t\tfor box in result.boxes:\n",
    "\t\t\t# Get bounding box coordinates\n",
    "\t\t\tx1, y1, x2, y2 = map(int, box.xyxy[0])  # Convert to integers\n",
    "\t\t\tconf = box.conf[0]  # Confidence score\n",
    "\t\t\tcls = int(box.cls[0])  # Class index\n",
    "\t\t\tlabel = model.names[cls]  # Class label from model\n",
    "\n",
    "\t\t\t# Draw the bounding box\n",
    "\t\t\tcv2.rectangle(cropped_frame, (x1, y1), (x2, y2), (0, 255, 0), 2)\n",
    "\t\t\t# Add label and confidence score\n",
    "\t\t\tcv2.putText(cropped_frame, f\"{label} {conf:.2f}\", (x1, y1 - 10), cv2.FONT_HERSHEY_SIMPLEX, 0.5, (0, 255, 0), 2)\n",
    "\n",
    "\tcv2.imshow(\"Android_cam\", cropped_frame) \n",
    "\n",
    "\t# Press Esc key to exit \n",
    "\tif cv2.waitKey(1) & 0xFF == ord('q'):\n",
    "\t\tbreak\n",
    "\n",
    "cv2.destroyAllWindows() \n"
   ]
  },
  {
   "cell_type": "markdown",
   "metadata": {},
   "source": [
    "# Segmentation"
   ]
  },
  {
   "cell_type": "code",
   "execution_count": null,
   "metadata": {},
   "outputs": [],
   "source": [
    "model = YOLO(\"runs/segment/train3/weights/best.pt\")"
   ]
  },
  {
   "cell_type": "code",
   "execution_count": null,
   "metadata": {},
   "outputs": [],
   "source": [
    "# Import essential libraries \n",
    "import requests \n",
    "import cv2 \n",
    "import numpy as np \n",
    "\n",
    "# Replace the below URL with your own. Make sure to add \"/shot.jpg\" at last. \n",
    "url = \"http://192.168.188.30:8080/shot.jpg\"\n",
    "\n",
    "# While loop to continuously fetch data from the URL\n",
    "while True:\n",
    "    img_resp = requests.get(url)\n",
    "    img_arr = np.array(bytearray(img_resp.content), dtype=np.uint8)\n",
    "    frame = cv2.imdecode(img_arr, -1)\n",
    "    # cropped_frame = center_crop(frame, target_size=(480, 480))\n",
    "    cropped_frame = frame\n",
    "\n",
    "    # Run the model to get predictions\n",
    "    results = model.predict(cropped_frame, imgsz=480)\n",
    "\n",
    "    for result in results:\n",
    "        if result.masks is not None:  # Check if masks are available\n",
    "            for mask, box, conf, cls in zip(result.masks.data, result.boxes.xyxy, result.boxes.conf, result.boxes.cls):\n",
    "                # Resize the mask to match the frame size\n",
    "                mask = mask[0].cpu().numpy()  # Convert the mask to a numpy array\n",
    "                mask_resized = cv2.resize(mask, (cropped_frame.shape[1], cropped_frame.shape[0]))\n",
    "                mask_binary = (mask_resized > 0.5).astype(np.uint8)  # Convert to binary mask\n",
    "                \n",
    "                # Create a colored overlay for the mask\n",
    "                colored_mask = np.zeros_like(cropped_frame, dtype=np.uint8)\n",
    "                colored_mask[mask_binary > 0] = (0, 255, 0)  # Green color for mask\n",
    "\n",
    "                # Overlay the mask on the frame\n",
    "                cropped_frame = cv2.addWeighted(cropped_frame, 1, colored_mask, 0.5, 0)\n",
    "\n",
    "                # Get bounding box coordinates\n",
    "                x1, y1, x2, y2 = map(int, box)\n",
    "                label = model.names[int(cls)]\n",
    "                conf = float(conf)\n",
    "\n",
    "                # Draw the bounding box\n",
    "                cv2.rectangle(cropped_frame, (x1, y1), (x2, y2), (0, 255, 0), 2)\n",
    "\n",
    "                # Add label and confidence score\n",
    "                cv2.putText(cropped_frame, f\"{label} {conf:.2f}\", (x1, y1 - 10),\n",
    "                            cv2.FONT_HERSHEY_SIMPLEX, 0.5, (0, 255, 0), 2)\n",
    "\n",
    "    cv2.imshow(\"Android_cam\", cropped_frame)\n",
    "\n",
    "    # Press 'q' to exit\n",
    "    if cv2.waitKey(1) & 0xFF == ord('q'):\n",
    "        break\n",
    "\n",
    "cv2.destroyAllWindows()\n"
   ]
  }
 ],
 "metadata": {
  "kernelspec": {
   "display_name": "Python 3",
   "language": "python",
   "name": "python3"
  },
  "language_info": {
   "codemirror_mode": {
    "name": "ipython",
    "version": 3
   },
   "file_extension": ".py",
   "mimetype": "text/x-python",
   "name": "python",
   "nbconvert_exporter": "python",
   "pygments_lexer": "ipython3",
   "version": "3.10.6"
  }
 },
 "nbformat": 4,
 "nbformat_minor": 2
}
